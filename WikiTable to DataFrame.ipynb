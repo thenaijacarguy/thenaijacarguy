{
 "cells": [
  {
   "cell_type": "markdown",
   "id": "acd697aa",
   "metadata": {},
   "source": [
    "# Importing a Table from Wikipedia and converting to a DataFrame"
   ]
  },
  {
   "cell_type": "markdown",
   "id": "fb4e2e88",
   "metadata": {},
   "source": [
    "Firstly, import Pandas"
   ]
  },
  {
   "cell_type": "code",
   "execution_count": null,
   "id": "bd9a5541",
   "metadata": {},
   "outputs": [],
   "source": [
    "import pandas as pd"
   ]
  },
  {
   "cell_type": "markdown",
   "id": "17d1a4f2",
   "metadata": {},
   "source": [
    "Then import Requests"
   ]
  },
  {
   "cell_type": "code",
   "execution_count": null,
   "id": "9a60b7f0",
   "metadata": {},
   "outputs": [],
   "source": [
    "import requests"
   ]
  },
  {
   "cell_type": "markdown",
   "id": "8b08dc89",
   "metadata": {},
   "source": [
    "Install Beautiful Soup"
   ]
  },
  {
   "cell_type": "code",
   "execution_count": null,
   "id": "73e9e659",
   "metadata": {},
   "outputs": [],
   "source": [
    "pip install beautifulsoup4"
   ]
  },
  {
   "cell_type": "markdown",
   "id": "c392d00e",
   "metadata": {},
   "source": [
    "Then import Beautiful Soup"
   ]
  },
  {
   "cell_type": "code",
   "execution_count": null,
   "id": "2ced1f09",
   "metadata": {},
   "outputs": [],
   "source": [
    "from bs4 import BeautifulSoup"
   ]
  },
  {
   "cell_type": "markdown",
   "id": "a6e74a94",
   "metadata": {},
   "source": [
    "# Checking to see if we have permission to import the table"
   ]
  },
  {
   "cell_type": "markdown",
   "id": "819225c6",
   "metadata": {},
   "source": [
    "A 200 status code tells us that it's alright to access information from a certain website\n"
   ]
  },
  {
   "cell_type": "code",
   "execution_count": 5,
   "id": "88f53cc0",
   "metadata": {},
   "outputs": [
    {
     "name": "stdout",
     "output_type": "stream",
     "text": [
      "200\n"
     ]
    }
   ],
   "source": [
    "wikiurl='https://en.wikipedia.org/wiki/Nigeria'\n",
    "table_class=\"wikitable sortable jquery-tablesorter\"\n",
    "response=requests.get(wikiurl)\n",
    "print(response.status_code)"
   ]
  },
  {
   "cell_type": "markdown",
   "id": "ec6dd847",
   "metadata": {},
   "source": [
    "Importing the table using Beautiful Soup"
   ]
  },
  {
   "cell_type": "code",
   "execution_count": 11,
   "id": "3b262f6f",
   "metadata": {},
   "outputs": [],
   "source": [
    "soup=BeautifulSoup(response.text, 'html.parser')\n",
    "population=soup.find('table', {'class': 'wikitable'})"
   ]
  },
  {
   "cell_type": "markdown",
   "id": "07e41307",
   "metadata": {},
   "source": [
    "Reading the url html and assigning it a name 'df2'"
   ]
  },
  {
   "cell_type": "code",
   "execution_count": 45,
   "id": "2e1d9fd1",
   "metadata": {},
   "outputs": [],
   "source": [
    "df2=pd.read_html(str(population))"
   ]
  },
  {
   "cell_type": "markdown",
   "id": "94089cd1",
   "metadata": {},
   "source": [
    "Now, let's take a look at what the table looks like"
   ]
  },
  {
   "cell_type": "code",
   "execution_count": 46,
   "id": "82270000",
   "metadata": {},
   "outputs": [
    {
     "data": {
      "text/plain": [
       "[  Population in Nigeria[169][170]                             \\\n",
       "                              Year Million Unnamed: 2_level_1   \n",
       " 0                            1971      55                NaN   \n",
       " 1                            1980      71                NaN   \n",
       " 2                            1990      95                NaN   \n",
       " 3                            2000     125                NaN   \n",
       " 4                            2004     138                NaN   \n",
       " 5                            2008     151                NaN   \n",
       " 6                            2012     167                NaN   \n",
       " 7                            2016     186                NaN   \n",
       " 8                            2017     191                NaN   \n",
       " \n",
       "                       \n",
       "   Unnamed: 3_level_1  \n",
       " 0                NaN  \n",
       " 1                NaN  \n",
       " 2                NaN  \n",
       " 3                NaN  \n",
       " 4                NaN  \n",
       " 5                NaN  \n",
       " 6                NaN  \n",
       " 7                NaN  \n",
       " 8                NaN  ]"
      ]
     },
     "execution_count": 46,
     "metadata": {},
     "output_type": "execute_result"
    }
   ],
   "source": [
    "df2"
   ]
  },
  {
   "cell_type": "markdown",
   "id": "0cbdf904",
   "metadata": {},
   "source": [
    "# Converting the table to a Pandas DataFrame"
   ]
  },
  {
   "cell_type": "code",
   "execution_count": 47,
   "id": "155d9cb6",
   "metadata": {},
   "outputs": [],
   "source": [
    "df2=pd.DataFrame(df2[0])"
   ]
  },
  {
   "cell_type": "markdown",
   "id": "c9242eab",
   "metadata": {},
   "source": [
    "Now, let's see what the table looks like after being converted to a dataframe"
   ]
  },
  {
   "cell_type": "code",
   "execution_count": 15,
   "id": "3f5351b1",
   "metadata": {},
   "outputs": [
    {
     "data": {
      "text/html": [
       "<div>\n",
       "<style scoped>\n",
       "    .dataframe tbody tr th:only-of-type {\n",
       "        vertical-align: middle;\n",
       "    }\n",
       "\n",
       "    .dataframe tbody tr th {\n",
       "        vertical-align: top;\n",
       "    }\n",
       "\n",
       "    .dataframe thead tr th {\n",
       "        text-align: left;\n",
       "    }\n",
       "</style>\n",
       "<table border=\"1\" class=\"dataframe\">\n",
       "  <thead>\n",
       "    <tr>\n",
       "      <th></th>\n",
       "      <th colspan=\"4\" halign=\"left\">Population in Nigeria[169][170]</th>\n",
       "    </tr>\n",
       "    <tr>\n",
       "      <th></th>\n",
       "      <th>Year</th>\n",
       "      <th>Million</th>\n",
       "      <th>Unnamed: 2_level_1</th>\n",
       "      <th>Unnamed: 3_level_1</th>\n",
       "    </tr>\n",
       "  </thead>\n",
       "  <tbody>\n",
       "    <tr>\n",
       "      <th>0</th>\n",
       "      <td>1971</td>\n",
       "      <td>55</td>\n",
       "      <td>NaN</td>\n",
       "      <td>NaN</td>\n",
       "    </tr>\n",
       "    <tr>\n",
       "      <th>1</th>\n",
       "      <td>1980</td>\n",
       "      <td>71</td>\n",
       "      <td>NaN</td>\n",
       "      <td>NaN</td>\n",
       "    </tr>\n",
       "    <tr>\n",
       "      <th>2</th>\n",
       "      <td>1990</td>\n",
       "      <td>95</td>\n",
       "      <td>NaN</td>\n",
       "      <td>NaN</td>\n",
       "    </tr>\n",
       "    <tr>\n",
       "      <th>3</th>\n",
       "      <td>2000</td>\n",
       "      <td>125</td>\n",
       "      <td>NaN</td>\n",
       "      <td>NaN</td>\n",
       "    </tr>\n",
       "    <tr>\n",
       "      <th>4</th>\n",
       "      <td>2004</td>\n",
       "      <td>138</td>\n",
       "      <td>NaN</td>\n",
       "      <td>NaN</td>\n",
       "    </tr>\n",
       "    <tr>\n",
       "      <th>5</th>\n",
       "      <td>2008</td>\n",
       "      <td>151</td>\n",
       "      <td>NaN</td>\n",
       "      <td>NaN</td>\n",
       "    </tr>\n",
       "    <tr>\n",
       "      <th>6</th>\n",
       "      <td>2012</td>\n",
       "      <td>167</td>\n",
       "      <td>NaN</td>\n",
       "      <td>NaN</td>\n",
       "    </tr>\n",
       "    <tr>\n",
       "      <th>7</th>\n",
       "      <td>2016</td>\n",
       "      <td>186</td>\n",
       "      <td>NaN</td>\n",
       "      <td>NaN</td>\n",
       "    </tr>\n",
       "    <tr>\n",
       "      <th>8</th>\n",
       "      <td>2017</td>\n",
       "      <td>191</td>\n",
       "      <td>NaN</td>\n",
       "      <td>NaN</td>\n",
       "    </tr>\n",
       "  </tbody>\n",
       "</table>\n",
       "</div>"
      ],
      "text/plain": [
       "  Population in Nigeria[169][170]                             \\\n",
       "                             Year Million Unnamed: 2_level_1   \n",
       "0                            1971      55                NaN   \n",
       "1                            1980      71                NaN   \n",
       "2                            1990      95                NaN   \n",
       "3                            2000     125                NaN   \n",
       "4                            2004     138                NaN   \n",
       "5                            2008     151                NaN   \n",
       "6                            2012     167                NaN   \n",
       "7                            2016     186                NaN   \n",
       "8                            2017     191                NaN   \n",
       "\n",
       "                      \n",
       "  Unnamed: 3_level_1  \n",
       "0                NaN  \n",
       "1                NaN  \n",
       "2                NaN  \n",
       "3                NaN  \n",
       "4                NaN  \n",
       "5                NaN  \n",
       "6                NaN  \n",
       "7                NaN  \n",
       "8                NaN  "
      ]
     },
     "execution_count": 15,
     "metadata": {},
     "output_type": "execute_result"
    }
   ],
   "source": [
    "df2"
   ]
  },
  {
   "cell_type": "markdown",
   "id": "60cfd3b1",
   "metadata": {},
   "source": [
    "# Converting the DataFrame from a multi level index to a single level"
   ]
  },
  {
   "cell_type": "markdown",
   "id": "6005108b",
   "metadata": {},
   "source": [
    "Due to importation from Wiki, we must convert it from a multi level index to a single level, so we can get rid of unwanted columns"
   ]
  },
  {
   "cell_type": "code",
   "execution_count": 48,
   "id": "f427307f",
   "metadata": {},
   "outputs": [],
   "source": [
    "df2.columns = ['_'.join(col) for col in df2.columns.values]"
   ]
  },
  {
   "cell_type": "markdown",
   "id": "b98e33d7",
   "metadata": {},
   "source": [
    "Let's take a new at what the single index table looks like"
   ]
  },
  {
   "cell_type": "code",
   "execution_count": 49,
   "id": "e848e693",
   "metadata": {
    "scrolled": false
   },
   "outputs": [
    {
     "data": {
      "text/html": [
       "<div>\n",
       "<style scoped>\n",
       "    .dataframe tbody tr th:only-of-type {\n",
       "        vertical-align: middle;\n",
       "    }\n",
       "\n",
       "    .dataframe tbody tr th {\n",
       "        vertical-align: top;\n",
       "    }\n",
       "\n",
       "    .dataframe thead th {\n",
       "        text-align: right;\n",
       "    }\n",
       "</style>\n",
       "<table border=\"1\" class=\"dataframe\">\n",
       "  <thead>\n",
       "    <tr style=\"text-align: right;\">\n",
       "      <th></th>\n",
       "      <th>Population in Nigeria[169][170]_Year</th>\n",
       "      <th>Population in Nigeria[169][170]_Million</th>\n",
       "      <th>Population in Nigeria[169][170]_Unnamed: 2_level_1</th>\n",
       "      <th>Population in Nigeria[169][170]_Unnamed: 3_level_1</th>\n",
       "    </tr>\n",
       "  </thead>\n",
       "  <tbody>\n",
       "    <tr>\n",
       "      <th>0</th>\n",
       "      <td>1971</td>\n",
       "      <td>55</td>\n",
       "      <td>NaN</td>\n",
       "      <td>NaN</td>\n",
       "    </tr>\n",
       "    <tr>\n",
       "      <th>1</th>\n",
       "      <td>1980</td>\n",
       "      <td>71</td>\n",
       "      <td>NaN</td>\n",
       "      <td>NaN</td>\n",
       "    </tr>\n",
       "    <tr>\n",
       "      <th>2</th>\n",
       "      <td>1990</td>\n",
       "      <td>95</td>\n",
       "      <td>NaN</td>\n",
       "      <td>NaN</td>\n",
       "    </tr>\n",
       "    <tr>\n",
       "      <th>3</th>\n",
       "      <td>2000</td>\n",
       "      <td>125</td>\n",
       "      <td>NaN</td>\n",
       "      <td>NaN</td>\n",
       "    </tr>\n",
       "    <tr>\n",
       "      <th>4</th>\n",
       "      <td>2004</td>\n",
       "      <td>138</td>\n",
       "      <td>NaN</td>\n",
       "      <td>NaN</td>\n",
       "    </tr>\n",
       "    <tr>\n",
       "      <th>5</th>\n",
       "      <td>2008</td>\n",
       "      <td>151</td>\n",
       "      <td>NaN</td>\n",
       "      <td>NaN</td>\n",
       "    </tr>\n",
       "    <tr>\n",
       "      <th>6</th>\n",
       "      <td>2012</td>\n",
       "      <td>167</td>\n",
       "      <td>NaN</td>\n",
       "      <td>NaN</td>\n",
       "    </tr>\n",
       "    <tr>\n",
       "      <th>7</th>\n",
       "      <td>2016</td>\n",
       "      <td>186</td>\n",
       "      <td>NaN</td>\n",
       "      <td>NaN</td>\n",
       "    </tr>\n",
       "    <tr>\n",
       "      <th>8</th>\n",
       "      <td>2017</td>\n",
       "      <td>191</td>\n",
       "      <td>NaN</td>\n",
       "      <td>NaN</td>\n",
       "    </tr>\n",
       "  </tbody>\n",
       "</table>\n",
       "</div>"
      ],
      "text/plain": [
       "   Population in Nigeria[169][170]_Year  \\\n",
       "0                                  1971   \n",
       "1                                  1980   \n",
       "2                                  1990   \n",
       "3                                  2000   \n",
       "4                                  2004   \n",
       "5                                  2008   \n",
       "6                                  2012   \n",
       "7                                  2016   \n",
       "8                                  2017   \n",
       "\n",
       "   Population in Nigeria[169][170]_Million  \\\n",
       "0                                       55   \n",
       "1                                       71   \n",
       "2                                       95   \n",
       "3                                      125   \n",
       "4                                      138   \n",
       "5                                      151   \n",
       "6                                      167   \n",
       "7                                      186   \n",
       "8                                      191   \n",
       "\n",
       "   Population in Nigeria[169][170]_Unnamed: 2_level_1  \\\n",
       "0                                                NaN    \n",
       "1                                                NaN    \n",
       "2                                                NaN    \n",
       "3                                                NaN    \n",
       "4                                                NaN    \n",
       "5                                                NaN    \n",
       "6                                                NaN    \n",
       "7                                                NaN    \n",
       "8                                                NaN    \n",
       "\n",
       "   Population in Nigeria[169][170]_Unnamed: 3_level_1  \n",
       "0                                                NaN   \n",
       "1                                                NaN   \n",
       "2                                                NaN   \n",
       "3                                                NaN   \n",
       "4                                                NaN   \n",
       "5                                                NaN   \n",
       "6                                                NaN   \n",
       "7                                                NaN   \n",
       "8                                                NaN   "
      ]
     },
     "execution_count": 49,
     "metadata": {},
     "output_type": "execute_result"
    }
   ],
   "source": [
    "df2"
   ]
  },
  {
   "cell_type": "markdown",
   "id": "cb29a906",
   "metadata": {},
   "source": [
    "# Dropping unwanted columns"
   ]
  },
  {
   "cell_type": "markdown",
   "id": "978d6a42",
   "metadata": {},
   "source": [
    "Since we do not have need of the two last columns, let's drop them"
   ]
  },
  {
   "cell_type": "code",
   "execution_count": 50,
   "id": "4ab11ce5",
   "metadata": {},
   "outputs": [],
   "source": [
    "df2 = df2.drop(['Population in Nigeria[169][170]_Unnamed: 3_level_1','Population in Nigeria[169][170]_Unnamed: 2_level_1'], axis=1)"
   ]
  },
  {
   "cell_type": "markdown",
   "id": "8b4e1d35",
   "metadata": {},
   "source": [
    "Now, the DataFrame has just the two columns we need"
   ]
  },
  {
   "cell_type": "code",
   "execution_count": 51,
   "id": "7552eea7",
   "metadata": {},
   "outputs": [
    {
     "data": {
      "text/html": [
       "<div>\n",
       "<style scoped>\n",
       "    .dataframe tbody tr th:only-of-type {\n",
       "        vertical-align: middle;\n",
       "    }\n",
       "\n",
       "    .dataframe tbody tr th {\n",
       "        vertical-align: top;\n",
       "    }\n",
       "\n",
       "    .dataframe thead th {\n",
       "        text-align: right;\n",
       "    }\n",
       "</style>\n",
       "<table border=\"1\" class=\"dataframe\">\n",
       "  <thead>\n",
       "    <tr style=\"text-align: right;\">\n",
       "      <th></th>\n",
       "      <th>Population in Nigeria[169][170]_Year</th>\n",
       "      <th>Population in Nigeria[169][170]_Million</th>\n",
       "    </tr>\n",
       "  </thead>\n",
       "  <tbody>\n",
       "    <tr>\n",
       "      <th>0</th>\n",
       "      <td>1971</td>\n",
       "      <td>55</td>\n",
       "    </tr>\n",
       "    <tr>\n",
       "      <th>1</th>\n",
       "      <td>1980</td>\n",
       "      <td>71</td>\n",
       "    </tr>\n",
       "    <tr>\n",
       "      <th>2</th>\n",
       "      <td>1990</td>\n",
       "      <td>95</td>\n",
       "    </tr>\n",
       "    <tr>\n",
       "      <th>3</th>\n",
       "      <td>2000</td>\n",
       "      <td>125</td>\n",
       "    </tr>\n",
       "    <tr>\n",
       "      <th>4</th>\n",
       "      <td>2004</td>\n",
       "      <td>138</td>\n",
       "    </tr>\n",
       "    <tr>\n",
       "      <th>5</th>\n",
       "      <td>2008</td>\n",
       "      <td>151</td>\n",
       "    </tr>\n",
       "    <tr>\n",
       "      <th>6</th>\n",
       "      <td>2012</td>\n",
       "      <td>167</td>\n",
       "    </tr>\n",
       "    <tr>\n",
       "      <th>7</th>\n",
       "      <td>2016</td>\n",
       "      <td>186</td>\n",
       "    </tr>\n",
       "    <tr>\n",
       "      <th>8</th>\n",
       "      <td>2017</td>\n",
       "      <td>191</td>\n",
       "    </tr>\n",
       "  </tbody>\n",
       "</table>\n",
       "</div>"
      ],
      "text/plain": [
       "   Population in Nigeria[169][170]_Year  \\\n",
       "0                                  1971   \n",
       "1                                  1980   \n",
       "2                                  1990   \n",
       "3                                  2000   \n",
       "4                                  2004   \n",
       "5                                  2008   \n",
       "6                                  2012   \n",
       "7                                  2016   \n",
       "8                                  2017   \n",
       "\n",
       "   Population in Nigeria[169][170]_Million  \n",
       "0                                       55  \n",
       "1                                       71  \n",
       "2                                       95  \n",
       "3                                      125  \n",
       "4                                      138  \n",
       "5                                      151  \n",
       "6                                      167  \n",
       "7                                      186  \n",
       "8                                      191  "
      ]
     },
     "execution_count": 51,
     "metadata": {},
     "output_type": "execute_result"
    }
   ],
   "source": [
    "df2"
   ]
  },
  {
   "cell_type": "markdown",
   "id": "f965d45d",
   "metadata": {},
   "source": [
    "But we need to rename the columns to something understandable"
   ]
  },
  {
   "cell_type": "code",
   "execution_count": 54,
   "id": "0a45efc3",
   "metadata": {},
   "outputs": [],
   "source": [
    "df2.rename(columns = {\n",
    "    'Population in Nigeria[169][170]_Year': 'Year', 'Population in Nigeria[169][170]_Million': 'Population(in millions)'},\n",
    "          inplace= 'True')"
   ]
  },
  {
   "cell_type": "markdown",
   "id": "119228e0",
   "metadata": {},
   "source": [
    "Here we have the renamed columns"
   ]
  },
  {
   "cell_type": "code",
   "execution_count": 55,
   "id": "9d983c68",
   "metadata": {},
   "outputs": [
    {
     "data": {
      "text/html": [
       "<div>\n",
       "<style scoped>\n",
       "    .dataframe tbody tr th:only-of-type {\n",
       "        vertical-align: middle;\n",
       "    }\n",
       "\n",
       "    .dataframe tbody tr th {\n",
       "        vertical-align: top;\n",
       "    }\n",
       "\n",
       "    .dataframe thead th {\n",
       "        text-align: right;\n",
       "    }\n",
       "</style>\n",
       "<table border=\"1\" class=\"dataframe\">\n",
       "  <thead>\n",
       "    <tr style=\"text-align: right;\">\n",
       "      <th></th>\n",
       "      <th>Year</th>\n",
       "      <th>Population(in millions)</th>\n",
       "    </tr>\n",
       "  </thead>\n",
       "  <tbody>\n",
       "    <tr>\n",
       "      <th>0</th>\n",
       "      <td>1971</td>\n",
       "      <td>55</td>\n",
       "    </tr>\n",
       "    <tr>\n",
       "      <th>1</th>\n",
       "      <td>1980</td>\n",
       "      <td>71</td>\n",
       "    </tr>\n",
       "    <tr>\n",
       "      <th>2</th>\n",
       "      <td>1990</td>\n",
       "      <td>95</td>\n",
       "    </tr>\n",
       "    <tr>\n",
       "      <th>3</th>\n",
       "      <td>2000</td>\n",
       "      <td>125</td>\n",
       "    </tr>\n",
       "    <tr>\n",
       "      <th>4</th>\n",
       "      <td>2004</td>\n",
       "      <td>138</td>\n",
       "    </tr>\n",
       "    <tr>\n",
       "      <th>5</th>\n",
       "      <td>2008</td>\n",
       "      <td>151</td>\n",
       "    </tr>\n",
       "    <tr>\n",
       "      <th>6</th>\n",
       "      <td>2012</td>\n",
       "      <td>167</td>\n",
       "    </tr>\n",
       "    <tr>\n",
       "      <th>7</th>\n",
       "      <td>2016</td>\n",
       "      <td>186</td>\n",
       "    </tr>\n",
       "    <tr>\n",
       "      <th>8</th>\n",
       "      <td>2017</td>\n",
       "      <td>191</td>\n",
       "    </tr>\n",
       "  </tbody>\n",
       "</table>\n",
       "</div>"
      ],
      "text/plain": [
       "   Year  Population(in millions)\n",
       "0  1971                       55\n",
       "1  1980                       71\n",
       "2  1990                       95\n",
       "3  2000                      125\n",
       "4  2004                      138\n",
       "5  2008                      151\n",
       "6  2012                      167\n",
       "7  2016                      186\n",
       "8  2017                      191"
      ]
     },
     "execution_count": 55,
     "metadata": {},
     "output_type": "execute_result"
    }
   ],
   "source": [
    "df2"
   ]
  },
  {
   "cell_type": "markdown",
   "id": "fe6c311f",
   "metadata": {},
   "source": [
    "Finally, we have to make the 'Year' column as the index so we can easily plot a graph or plot"
   ]
  },
  {
   "cell_type": "code",
   "execution_count": 59,
   "id": "9683a91f",
   "metadata": {
    "scrolled": true
   },
   "outputs": [],
   "source": [
    "df2 = df2.set_index('Year')"
   ]
  },
  {
   "cell_type": "markdown",
   "id": "fbba3998",
   "metadata": {},
   "source": [
    "The new DataFrame with the 'Year' column as index"
   ]
  },
  {
   "cell_type": "code",
   "execution_count": 62,
   "id": "04d4d2f5",
   "metadata": {},
   "outputs": [
    {
     "data": {
      "text/html": [
       "<div>\n",
       "<style scoped>\n",
       "    .dataframe tbody tr th:only-of-type {\n",
       "        vertical-align: middle;\n",
       "    }\n",
       "\n",
       "    .dataframe tbody tr th {\n",
       "        vertical-align: top;\n",
       "    }\n",
       "\n",
       "    .dataframe thead th {\n",
       "        text-align: right;\n",
       "    }\n",
       "</style>\n",
       "<table border=\"1\" class=\"dataframe\">\n",
       "  <thead>\n",
       "    <tr style=\"text-align: right;\">\n",
       "      <th></th>\n",
       "      <th>Population(in millions)</th>\n",
       "    </tr>\n",
       "    <tr>\n",
       "      <th>Year</th>\n",
       "      <th></th>\n",
       "    </tr>\n",
       "  </thead>\n",
       "  <tbody>\n",
       "    <tr>\n",
       "      <th>1971</th>\n",
       "      <td>55</td>\n",
       "    </tr>\n",
       "    <tr>\n",
       "      <th>1980</th>\n",
       "      <td>71</td>\n",
       "    </tr>\n",
       "    <tr>\n",
       "      <th>1990</th>\n",
       "      <td>95</td>\n",
       "    </tr>\n",
       "    <tr>\n",
       "      <th>2000</th>\n",
       "      <td>125</td>\n",
       "    </tr>\n",
       "    <tr>\n",
       "      <th>2004</th>\n",
       "      <td>138</td>\n",
       "    </tr>\n",
       "    <tr>\n",
       "      <th>2008</th>\n",
       "      <td>151</td>\n",
       "    </tr>\n",
       "    <tr>\n",
       "      <th>2012</th>\n",
       "      <td>167</td>\n",
       "    </tr>\n",
       "    <tr>\n",
       "      <th>2016</th>\n",
       "      <td>186</td>\n",
       "    </tr>\n",
       "    <tr>\n",
       "      <th>2017</th>\n",
       "      <td>191</td>\n",
       "    </tr>\n",
       "  </tbody>\n",
       "</table>\n",
       "</div>"
      ],
      "text/plain": [
       "      Population(in millions)\n",
       "Year                         \n",
       "1971                       55\n",
       "1980                       71\n",
       "1990                       95\n",
       "2000                      125\n",
       "2004                      138\n",
       "2008                      151\n",
       "2012                      167\n",
       "2016                      186\n",
       "2017                      191"
      ]
     },
     "execution_count": 62,
     "metadata": {},
     "output_type": "execute_result"
    }
   ],
   "source": [
    "df2"
   ]
  },
  {
   "cell_type": "markdown",
   "id": "2c6164b6",
   "metadata": {},
   "source": [
    "# Plotting the Chart"
   ]
  },
  {
   "cell_type": "markdown",
   "id": "02e85230",
   "metadata": {},
   "source": [
    "Now, let's plot a barchart using the DataFrame"
   ]
  },
  {
   "cell_type": "code",
   "execution_count": 66,
   "id": "449eab91",
   "metadata": {},
   "outputs": [
    {
     "data": {
      "text/plain": [
       "<AxesSubplot:xlabel='Year'>"
      ]
     },
     "execution_count": 66,
     "metadata": {},
     "output_type": "execute_result"
    },
    {
     "data": {
      "image/png": "[encoded data removed]",
      "text/plain": [
       "<Figure size 432x288 with 1 Axes>"
      ]
     },
     "metadata": {
      "needs_background": "light"
     },
     "output_type": "display_data"
    }
   ],
   "source": [
    "df2.plot.bar()"
   ]
  },
  {
   "cell_type": "code",
   "execution_count": 67,
   "id": "a66db95e",
   "metadata": {},
   "outputs": [
    {
     "data": {
      "text/plain": [
       "<AxesSubplot:xlabel='Year'>"
      ]
     },
     "execution_count": 67,
     "metadata": {},
     "output_type": "execute_result"
    },
    {
     "data": {
      "image/png": "[encoded data removed]",
      "text/plain": [
       "<Figure size 432x288 with 1 Axes>"
      ]
     },
     "metadata": {
      "needs_background": "light"
     },
     "output_type": "display_data"
    }
   ],
   "source": [
    "df2.plot()"
   ]
  }
 ],
 "metadata": {
  "kernelspec": {
   "display_name": "Python 3 (ipykernel)",
   "language": "python",
   "name": "python3"
  },
  "language_info": {
   "codemirror_mode": {
    "name": "ipython",
    "version": 3
   },
   "file_extension": ".py",
   "mimetype": "text/x-python",
   "name": "python",
   "nbconvert_exporter": "python",
   "pygments_lexer": "ipython3",
   "version": "3.9.7"
  }
 },
 "nbformat": 4,
 "nbformat_minor": 5
}
